{
 "cells": [
  {
   "cell_type": "code",
   "execution_count": null,
   "metadata": {},
   "outputs": [],
   "source": [
    "arr = [55, 7, 78, 12, 42]\n",
    "n = len(arr)\n",
    "for i in range(n -1):\n",
    "    if arr[i] > arr[i+1]:\n",
    "        arr[i], arr[i+1] = arr[i+1], arr[i]\n",
    "        \n",
    "print(arr)"
   ]
  },
  {
   "cell_type": "code",
   "execution_count": null,
   "metadata": {},
   "outputs": [],
   "source": [
    "arr = [55, 7, 78, 12, 42]\n",
    "n = len(arr)\n",
    "for j range(n-1, 0, -1):\n",
    "    for i in range(j):\n",
    "        if arr[i] > arr[i+1]:\n",
    "            arr[i], arr[i+1] = arr[i+1], arr[i]\n",
    "        \n",
    "print(arr)"
   ]
  },
  {
   "cell_type": "markdown",
   "metadata": {},
   "source": [
    "선택정렬 \n",
    "최대 최소 구하기"
   ]
  },
  {
   "cell_type": "code",
   "execution_count": null,
   "metadata": {},
   "outputs": [],
   "source": [
    "# 제일 처음 값을 기준으로 잡고, 비교하면서 버리거나 새로운 것으로 대체"
   ]
  },
  {
   "cell_type": "code",
   "execution_count": null,
   "metadata": {},
   "outputs": [],
   "source": [
    "arr = [55, 7, 78, 12, 42]\n",
    "\n",
    "MIN = arr[0]\n",
    "for i in range(1, len(arr)):\n",
    "    if arr [i] < MIN:\n",
    "        MIN = arr[i]\n",
    "        \n",
    "print(MIN)"
   ]
  },
  {
   "cell_type": "code",
   "execution_count": null,
   "metadata": {},
   "outputs": [],
   "source": []
  },
  {
   "cell_type": "markdown",
   "metadata": {},
   "source": [
    "현재 리스트에 제일 작은 값이 있는 인데스를 기억해 두기"
   ]
  },
  {
   "cell_type": "code",
   "execution_count": null,
   "metadata": {},
   "outputs": [],
   "source": [
    "MIN = 0\n",
    "for i in range(MIN + 1, len(arr)):\n",
    "    if arr[i] < arr[MIN]:\n",
    "        MIN = i\n",
    "arr[0], arr[MIN] = arr[MIN], arr[0]\n",
    "\n",
    "\n",
    "\n",
    "print(arr)"
   ]
  },
  {
   "cell_type": "code",
   "execution_count": null,
   "metadata": {},
   "outputs": [],
   "source": []
  },
  {
   "cell_type": "code",
   "execution_count": 1,
   "metadata": {},
   "outputs": [
    {
     "ename": "SyntaxError",
     "evalue": "invalid syntax (<ipython-input-1-d1544e301d30>, line 6)",
     "output_type": "error",
     "traceback": [
      "\u001b[1;36m  File \u001b[1;32m\"<ipython-input-1-d1544e301d30>\"\u001b[1;36m, line \u001b[1;32m6\u001b[0m\n\u001b[1;33m    for arr[i]< ar[MIN]:\u001b[0m\n\u001b[1;37m              ^\u001b[0m\n\u001b[1;31mSyntaxError\u001b[0m\u001b[1;31m:\u001b[0m invalid syntax\n"
     ]
    }
   ],
   "source": [
    "arr = [55, 7, 78, 12, 42]\n",
    "for j in range(len(arr), -1):\n",
    "    MIN = 0 \n",
    "    \n",
    "    for i in range(j+1, lne(arr)):\n",
    "        for arr[i]< ar[MIN]:\n",
    "            min"
   ]
  },
  {
   "cell_type": "code",
   "execution_count": null,
   "metadata": {},
   "outputs": [],
   "source": []
  },
  {
   "cell_type": "code",
   "execution_count": 2,
   "metadata": {},
   "outputs": [
    {
     "ename": "NameError",
     "evalue": "name '선택정렬' is not defined",
     "output_type": "error",
     "traceback": [
      "\u001b[1;31m---------------------------------------------------------------------------\u001b[0m",
      "\u001b[1;31mNameError\u001b[0m                                 Traceback (most recent call last)",
      "\u001b[1;32m<ipython-input-2-4e07bb5060cd>\u001b[0m in \u001b[0;36m<module>\u001b[1;34m\u001b[0m\n\u001b[1;32m----> 1\u001b[1;33m \u001b[0m선택정렬\u001b[0m\u001b[1;33m\u001b[0m\u001b[0m\n\u001b[0m",
      "\u001b[1;31mNameError\u001b[0m: name '선택정렬' is not defined"
     ]
    }
   ],
   "source": [
    "선택정렬"
   ]
  },
  {
   "cell_type": "code",
   "execution_count": 4,
   "metadata": {},
   "outputs": [
    {
     "name": "stdout",
     "output_type": "stream",
     "text": [
      "[1, 3, 1, 2, 1]\n"
     ]
    }
   ],
   "source": [
    "data = [0, 3, 1, 3, 1, 2, 4, 1]\n",
    "counts = [0] * 5 #최댓값 4\n",
    "for val in data:\n",
    "    counts[val] += 1\n",
    "    \n",
    "print(counts)\n"
   ]
  },
  {
   "cell_type": "code",
   "execution_count": null,
   "metadata": {},
   "outputs": [],
   "source": []
  },
  {
   "cell_type": "code",
   "execution_count": 8,
   "metadata": {},
   "outputs": [
    {
     "name": "stdout",
     "output_type": "stream",
     "text": [
      "[0, 1, 1, 1, 2, 3, 3, 4]\n"
     ]
    }
   ],
   "source": [
    "sorted = []\n",
    "for i in range(len(counts)):\n",
    "    for j in range(counts[i]):\n",
    "        sorted.append(i)\n",
    "        \n",
    "print(sorted)"
   ]
  },
  {
   "cell_type": "code",
   "execution_count": null,
   "metadata": {},
   "outputs": [],
   "source": [
    "data = [0, 3, 1, 3, 1, 2, 4, 1]\n",
    "counts = [0] * 5 #최댓값 4data \n",
    "\n",
    "for val in data:\n",
    "    counts[val] +=1   #누적빈도수\n",
    "    \n",
    "    for range(1, len(counts)):\n",
    "        counts[]\n",
    "    "
   ]
  },
  {
   "cell_type": "code",
   "execution_count": null,
   "metadata": {},
   "outputs": [],
   "source": []
  },
  {
   "cell_type": "code",
   "execution_count": null,
   "metadata": {},
   "outputs": [],
   "source": []
  },
  {
   "cell_type": "code",
   "execution_count": 9,
   "metadata": {},
   "outputs": [],
   "source": [
    "#연습문제 1 Gravity\n",
    "data = [7, 4, 2, 0, 0, 6, 0, 7, 0]\n",
    "\n",
    "\n"
   ]
  },
  {
   "cell_type": "code",
   "execution_count": 18,
   "metadata": {},
   "outputs": [
    {
     "data": {
      "text/plain": [
       "[10, 9, 8, 7, 6, 5, 4, 3, 2, 1, 0, -1, -2, -3, -4, -5, -6, -7, -8, -9]"
      ]
     },
     "execution_count": 18,
     "metadata": {},
     "output_type": "execute_result"
    }
   ],
   "source": [
    "\n",
    "list(range(10, -10 ,-1))"
   ]
  },
  {
   "cell_type": "code",
   "execution_count": null,
   "metadata": {},
   "outputs": [],
   "source": []
  },
  {
   "cell_type": "code",
   "execution_count": 19,
   "metadata": {},
   "outputs": [
    {
     "name": "stdout",
     "output_type": "stream",
     "text": [
      "A A A\n",
      "A A B\n",
      "A A C\n",
      "A B A\n",
      "A B B\n",
      "A B C\n",
      "A C A\n",
      "A C B\n",
      "A C C\n",
      "B A A\n",
      "B A B\n",
      "B A C\n",
      "B B A\n",
      "B B B\n",
      "B B C\n",
      "B C A\n",
      "B C B\n",
      "B C C\n",
      "C A A\n",
      "C A B\n",
      "C A C\n",
      "C B A\n",
      "C B B\n",
      "C B C\n",
      "C C A\n",
      "C C B\n",
      "C C C\n"
     ]
    }
   ],
   "source": [
    "data = 'ABC'\n",
    "n = len(data)\n",
    "for i in range(n):\n",
    "    for j in range(n):\n",
    "        for k in range(n):\n",
    "            print(data[i], data[j], data[k])"
   ]
  },
  {
   "cell_type": "code",
   "execution_count": 20,
   "metadata": {},
   "outputs": [
    {
     "name": "stdout",
     "output_type": "stream",
     "text": [
      "A B C\n",
      "A C B\n",
      "B A C\n",
      "B C A\n",
      "C A B\n",
      "C B A\n"
     ]
    }
   ],
   "source": [
    "data = 'ABC'\n",
    "n = len(data)\n",
    "for i in range(n):\n",
    "    for j in range(n):\n",
    "        if i == j: \n",
    "            continue\n",
    "        for k in range(n):\n",
    "            if i ==k or j == k:\n",
    "                continue\n",
    "            print(data[i], data[j], data[k])"
   ]
  },
  {
   "cell_type": "code",
   "execution_count": null,
   "metadata": {},
   "outputs": [],
   "source": []
  }
 ],
 "metadata": {
  "kernelspec": {
   "display_name": "Python 3",
   "language": "python",
   "name": "python3"
  },
  "language_info": {
   "codemirror_mode": {
    "name": "ipython",
    "version": 3
   },
   "file_extension": ".py",
   "mimetype": "text/x-python",
   "name": "python",
   "nbconvert_exporter": "python",
   "pygments_lexer": "ipython3",
   "version": "3.5.3"
  }
 },
 "nbformat": 4,
 "nbformat_minor": 2
}
